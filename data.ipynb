{
 "cells": [
  {
   "cell_type": "code",
   "execution_count": null,
   "id": "55f7c711",
   "metadata": {},
   "outputs": [],
   "source": [
    "from PIL import Image, ImageChops\n",
    "import os\n",
    "from PIL import Image"
   ]
  },
  {
   "cell_type": "code",
   "execution_count": null,
   "id": "9237ac8f",
   "metadata": {},
   "outputs": [],
   "source": [
    "\n",
    "def ELA(img_path):\n",
    "    ela_image = 'ela_' + 'image.jpg'\n",
    "    s = 10\n",
    "    original = Image.open(img_path).convert('RGB')\n",
    "    ela=\"\"\n",
    "    original.save(ela_image, quality=90)\n",
    "    temp = Image.open(ela_image)\n",
    "    ela = ImageChops.difference(original, temp) \n",
    "    d=ela.load()\n",
    "    WIDTH, HEIGHT = ela.size\n",
    "    for r in range(WIDTH):\n",
    "        for c in range(HEIGHT):\n",
    "            d[r, c] = tuple(p * s for p in d[r, c])\n",
    "    os.remove(\"ela_image.jpg\")\n",
    "    return ela"
   ]
  },
  {
   "cell_type": "code",
   "execution_count": null,
   "id": "8152c7b3",
   "metadata": {},
   "outputs": [],
   "source": [
    "def data_preprocess():\n",
    "    root_dir = './'\n",
    "    class_folders = ['originals', 'photoshops']\n",
    "    i=1\n",
    "    for class_folder in class_folders:\n",
    "        class_path = os.path.join(root_dir, class_folder)\n",
    "        save_path = root_dir + class_folder + '_ela/'\n",
    "        os.mkdir(save_path)\n",
    "        for file_name in os.listdir(class_path):\n",
    "            file_path = os.path.join(class_path, file_name)\n",
    "            image = ELA(file_path)\n",
    "            image.save(save_path +  f\"{file_name}_ela.jpg\")\n",
    "            i+=1"
   ]
  },
  {
   "cell_type": "code",
   "execution_count": null,
   "id": "22b768b7",
   "metadata": {},
   "outputs": [],
   "source": [
    "data_preprocess()"
   ]
  }
 ],
 "metadata": {
  "kernelspec": {
   "display_name": "Python 3 (ipykernel)",
   "language": "python",
   "name": "python3"
  },
  "language_info": {
   "codemirror_mode": {
    "name": "ipython",
    "version": 3
   },
   "file_extension": ".py",
   "mimetype": "text/x-python",
   "name": "python",
   "nbconvert_exporter": "python",
   "pygments_lexer": "ipython3",
   "version": "3.10.9"
  }
 },
 "nbformat": 4,
 "nbformat_minor": 5
}
